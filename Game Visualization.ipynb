{
 "cells": [
  {
   "cell_type": "code",
   "execution_count": null,
   "id": "554460a7-d650-4a8b-ade7-11d7da21f93c",
   "metadata": {},
   "outputs": [],
   "source": [
    "import sys, os\n",
    "\n",
    "from evoman.environment import Environment\n",
    "from demo_controller import player_controller\n",
    "\n",
    "# imports other libs\n",
    "import numpy as np\n",
    "\n",
    "experiment_name = 'controller_specialist_demo'\n",
    "if not os.path.exists(experiment_name):\n",
    "    os.makedirs(experiment_name)\n",
    "\n",
    "# Update the number of neurons for this specific example\n",
    "n_hidden_neurons = 10\n",
    "\n",
    "# initializes environment for single objective mode (specialist)  with static enemy and ai player\n",
    "env = Environment(experiment_name=experiment_name,\n",
    "\t\t\t\t  playermode=\"ai\",\n",
    "\t\t\t\t  player_controller=player_controller(n_hidden_neurons),\n",
    "\t\t\t  \t  speed=\"normal\",\n",
    "\t\t\t\t  enemymode=\"static\",\n",
    "\t\t\t\t  level=2,\n",
    "\t\t\t\t  visuals=True)\n",
    "\n",
    "\n",
    "# tests saved demo solutions for each enemy\n",
    "for en in range(1, 9):\n",
    "\n",
    "\t#Update the enemy\n",
    "\tenv.update_parameter('enemies',[4])\n",
    "\n",
    "\t# Load specialist controller\n",
    "\tsol = np.loadtxt('Group_96_data_for_plots1/DE/fitness_mode_1/enemy_4/run10/best_individual.txt')\n",
    "\tprint('\\n LOADING SAVED SPECIALIST SOLUTION FOR ENEMY '+str(en)+' \\n')\n",
    "\tenv.play(sol)"
   ]
  },
  {
   "cell_type": "code",
   "execution_count": null,
   "id": "ce1b12ea-9458-4369-8eae-d7f4b3037acb",
   "metadata": {},
   "outputs": [],
   "source": []
  }
 ],
 "metadata": {
  "kernelspec": {
   "display_name": "Python 3 (ipykernel)",
   "language": "python",
   "name": "python3"
  },
  "language_info": {
   "codemirror_mode": {
    "name": "ipython",
    "version": 3
   },
   "file_extension": ".py",
   "mimetype": "text/x-python",
   "name": "python",
   "nbconvert_exporter": "python",
   "pygments_lexer": "ipython3",
   "version": "3.12.4"
  }
 },
 "nbformat": 4,
 "nbformat_minor": 5
}
